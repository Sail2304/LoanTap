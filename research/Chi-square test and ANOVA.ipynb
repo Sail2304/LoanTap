{
 "cells": [
  {
   "cell_type": "code",
   "execution_count": 20,
   "id": "9611384d",
   "metadata": {},
   "outputs": [],
   "source": [
    "import pandas as pd\n",
    "from matplotlib import pyplot as plt\n",
    "import seaborn as sns\n",
    "\n",
    "from scipy.stats import ttest_ind, kstest\n",
    "from statsmodels.distributions import ECDF"
   ]
  },
  {
   "cell_type": "markdown",
   "id": "fabebc6f",
   "metadata": {},
   "source": [
    "## Cricket ball example - kstest"
   ]
  },
  {
   "cell_type": "code",
   "execution_count": 2,
   "id": "f2d2a1ba",
   "metadata": {},
   "outputs": [],
   "source": [
    "df_1 = pd.read_csv(\"cricket_ball_1.csv\")\n",
    "df_2 = pd.read_csv(\"cricket_ball_2.csv\")"
   ]
  },
  {
   "cell_type": "code",
   "execution_count": 4,
   "id": "09d33e7a",
   "metadata": {},
   "outputs": [],
   "source": [
    "sample1 = df_1[\"circumference\"]\n",
    "sample2 = df_2[\"circumference\"]"
   ]
  },
  {
   "cell_type": "code",
   "execution_count": 7,
   "id": "54f7b0a5",
   "metadata": {},
   "outputs": [
    {
     "data": {
      "text/plain": [
       "<AxesSubplot:xlabel='circumference', ylabel='Count'>"
      ]
     },
     "execution_count": 7,
     "metadata": {},
     "output_type": "execute_result"
    },
    {
     "data": {
      "image/png": "[encoded data removed]",
      "text/plain": [
       "<Figure size 432x288 with 1 Axes>"
      ]
     },
     "metadata": {
      "needs_background": "light"
     },
     "output_type": "display_data"
    }
   ],
   "source": [
    "sns.histplot(sample1)"
   ]
  },
  {
   "cell_type": "code",
   "execution_count": 8,
   "id": "128e22ad",
   "metadata": {},
   "outputs": [
    {
     "data": {
      "text/plain": [
       "<AxesSubplot:xlabel='circumference', ylabel='Count'>"
      ]
     },
     "execution_count": 8,
     "metadata": {},
     "output_type": "execute_result"
    },
    {
     "data": {
      "image/png": "[encoded data removed]",
      "text/plain": [
       "<Figure size 432x288 with 1 Axes>"
      ]
     },
     "metadata": {
      "needs_background": "light"
     },
     "output_type": "display_data"
    }
   ],
   "source": [
    "sns.histplot(sample2)"
   ]
  },
  {
   "cell_type": "code",
   "execution_count": 9,
   "id": "b2d822d6",
   "metadata": {},
   "outputs": [
    {
     "name": "stdout",
     "output_type": "stream",
     "text": [
      "220.33030198964076\n"
     ]
    }
   ],
   "source": [
    "print(sample1.mean())"
   ]
  },
  {
   "cell_type": "code",
   "execution_count": 10,
   "id": "311a259d",
   "metadata": {},
   "outputs": [
    {
     "name": "stdout",
     "output_type": "stream",
     "text": [
      "215.74078148458815\n"
     ]
    }
   ],
   "source": [
    "print(sample2.mean())"
   ]
  },
  {
   "cell_type": "code",
   "execution_count": 13,
   "id": "5c93c704",
   "metadata": {},
   "outputs": [
    {
     "data": {
      "text/plain": [
       "Ttest_indResult(statistic=0.9774319527668726, pvalue=0.3302584162916311)"
      ]
     },
     "execution_count": 13,
     "metadata": {},
     "output_type": "execute_result"
    }
   ],
   "source": [
    "## H0: m1  = m2\n",
    "## Ha: m1 != m2\n",
    "ttest_ind(sample1, sample2)"
   ]
  },
  {
   "cell_type": "code",
   "execution_count": 18,
   "id": "beba4d64",
   "metadata": {},
   "outputs": [
    {
     "data": {
      "text/plain": [
       "[<matplotlib.lines.Line2D at 0x13e1c4730>]"
      ]
     },
     "execution_count": 18,
     "metadata": {},
     "output_type": "execute_result"
    },
    {
     "data": {
      "image/png": "[encoded data removed]",
      "text/plain": [
       "<Figure size 432x288 with 1 Axes>"
      ]
     },
     "metadata": {
      "needs_background": "light"
     },
     "output_type": "display_data"
    }
   ],
   "source": [
    "e1 = ECDF(sample1)\n",
    "e2 = ECDF(sample2)\n",
    "\n",
    "plt.plot(e1.x, e1.y)\n",
    "plt.plot(e2.x, e2.y)"
   ]
  },
  {
   "cell_type": "code",
   "execution_count": 22,
   "id": "a4986633",
   "metadata": {},
   "outputs": [
    {
     "data": {
      "text/plain": [
       "KstestResult(statistic=0.33572343149807937, pvalue=0.001268182397711426)"
      ]
     },
     "execution_count": 22,
     "metadata": {},
     "output_type": "execute_result"
    }
   ],
   "source": [
    "# H0: ECDF(sample1)  = ECDF(sample2)\n",
    "# Ha: ECDF(sample1) != ECDF(sample2)\n",
    "kstest(sample1, sample2)"
   ]
  },
  {
   "cell_type": "markdown",
   "id": "b8e6aacd",
   "metadata": {},
   "source": [
    "## Coin example - chi-square test"
   ]
  },
  {
   "cell_type": "code",
   "execution_count": 31,
   "id": "b489205f",
   "metadata": {},
   "outputs": [],
   "source": [
    "test_stat = 0.72\n",
    "\n",
    "from scipy.stats import chi2"
   ]
  },
  {
   "cell_type": "code",
   "execution_count": 32,
   "id": "8c10ce78",
   "metadata": {},
   "outputs": [],
   "source": [
    "## chi-square test is always a right tailed test.\n",
    "p_value = 1 - chi2.cdf(test_stat, df=1)"
   ]
  },
  {
   "cell_type": "code",
   "execution_count": 33,
   "id": "1c4d05af",
   "metadata": {},
   "outputs": [
    {
     "data": {
      "text/plain": [
       "0.3961439091520741"
      ]
     },
     "execution_count": 33,
     "metadata": {},
     "output_type": "execute_result"
    }
   ],
   "source": [
    "p_value"
   ]
  },
  {
   "cell_type": "code",
   "execution_count": 34,
   "id": "6c1c6e75",
   "metadata": {},
   "outputs": [],
   "source": [
    "critical_value = chi2.ppf(q=0.95, df=1)"
   ]
  },
  {
   "cell_type": "code",
   "execution_count": 35,
   "id": "2a317604",
   "metadata": {},
   "outputs": [
    {
     "data": {
      "text/plain": [
       "3.841458820694124"
      ]
     },
     "execution_count": 35,
     "metadata": {},
     "output_type": "execute_result"
    }
   ],
   "source": [
    "critical_value"
   ]
  },
  {
   "cell_type": "markdown",
   "id": "3992d43a",
   "metadata": {},
   "source": [
    "## Dice Example"
   ]
  },
  {
   "cell_type": "code",
   "execution_count": 36,
   "id": "32bc4854",
   "metadata": {},
   "outputs": [
    {
     "name": "stdout",
     "output_type": "stream",
     "text": [
      "0.72\n",
      "0.3961439091520741\n"
     ]
    }
   ],
   "source": [
    "from scipy.stats import chisquare\n",
    "\n",
    "chi_stat, p_value = chisquare([28, 22], [25, 25])\n",
    "print(chi_stat)\n",
    "print(p_value)"
   ]
  },
  {
   "cell_type": "code",
   "execution_count": 37,
   "id": "2768bf23",
   "metadata": {},
   "outputs": [],
   "source": [
    "critical_value = chi2.ppf(q=0.9, df=5)"
   ]
  },
  {
   "cell_type": "code",
   "execution_count": 38,
   "id": "e46fd917",
   "metadata": {},
   "outputs": [
    {
     "data": {
      "text/plain": [
       "9.236356899781123"
      ]
     },
     "execution_count": 38,
     "metadata": {},
     "output_type": "execute_result"
    }
   ],
   "source": [
    "critical_value"
   ]
  },
  {
   "cell_type": "code",
   "execution_count": 39,
   "id": "a31bb724",
   "metadata": {},
   "outputs": [
    {
     "name": "stdout",
     "output_type": "stream",
     "text": [
      "9.666666666666666\n",
      "0.08525020077588863\n"
     ]
    }
   ],
   "source": [
    "exp = [6, 6, 6, 6, 6, 6]\n",
    "obs = [2, 4, 8, 9, 3, 10]\n",
    "\n",
    "chi_stat, p_value = chisquare(obs, exp)\n",
    "print(chi_stat)\n",
    "print(p_value)"
   ]
  },
  {
   "cell_type": "markdown",
   "id": "602af8d6",
   "metadata": {},
   "source": [
    "## Gender vs. Preference example, Lenskart"
   ]
  },
  {
   "cell_type": "code",
   "execution_count": 40,
   "id": "9842f6c2",
   "metadata": {},
   "outputs": [],
   "source": [
    "critical_value = chi2.ppf(q=0.9, df=1)"
   ]
  },
  {
   "cell_type": "code",
   "execution_count": 41,
   "id": "3d13c11e",
   "metadata": {},
   "outputs": [
    {
     "data": {
      "text/plain": [
       "2.705543454095404"
      ]
     },
     "execution_count": 41,
     "metadata": {},
     "output_type": "execute_result"
    }
   ],
   "source": [
    "critical_value"
   ]
  },
  {
   "cell_type": "code",
   "execution_count": 43,
   "id": "1fd9c9f6",
   "metadata": {},
   "outputs": [],
   "source": [
    "## Use this to perform chi2 test of independence\n",
    "from scipy.stats import chi2_contingency\n",
    "\n",
    "observed = [[527, 72], [206, 102]]\n",
    "expected = [[484, 115], [249, 59]]\n",
    "\n",
    "chi_stat, p_value, df, exp_freq = chi2_contingency(observed)"
   ]
  },
  {
   "cell_type": "code",
   "execution_count": 44,
   "id": "42a4c05a",
   "metadata": {},
   "outputs": [
    {
     "data": {
      "text/plain": [
       "4.268230756875865e-14"
      ]
     },
     "execution_count": 44,
     "metadata": {},
     "output_type": "execute_result"
    }
   ],
   "source": [
    "p_value"
   ]
  },
  {
   "cell_type": "code",
   "execution_count": null,
   "id": "ff842e1d",
   "metadata": {},
   "outputs": [],
   "source": []
  }
 ],
 "metadata": {
  "kernelspec": {
   "display_name": "Python 3 (ipykernel)",
   "language": "python",
   "name": "python3"
  },
  "language_info": {
   "codemirror_mode": {
    "name": "ipython",
    "version": 3
   },
   "file_extension": ".py",
   "mimetype": "text/x-python",
   "name": "python",
   "nbconvert_exporter": "python",
   "pygments_lexer": "ipython3",
   "version": "3.10.5"
  }
 },
 "nbformat": 4,
 "nbformat_minor": 5
}
