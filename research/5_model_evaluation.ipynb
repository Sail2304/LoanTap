{
 "cells": [
  {
   "cell_type": "code",
   "execution_count": 1,
   "metadata": {},
   "outputs": [],
   "source": [
    "import os\n",
    "os.environ[\"MLFLOW_TRACKING_URI\"]=\"https://dagshub.com/Sail2304/LoanTap.mlflow\"\n",
    "os.environ[\"MLFLOW_TRACKING_USERNAME\"]=\"Sail2304\"\n",
    "os.environ[\"MLFLOW_TRACKING_PASSWORD\"]=\"b9b3f722c5b2cfcfba8e769fcd6c4ffd37e6136b\""
   ]
  },
  {
   "cell_type": "code",
   "execution_count": 2,
   "metadata": {},
   "outputs": [
    {
     "data": {
      "text/plain": [
       "'d:\\\\LoanTap\\\\LoanTap\\\\research'"
      ]
     },
     "execution_count": 2,
     "metadata": {},
     "output_type": "execute_result"
    }
   ],
   "source": [
    "%pwd"
   ]
  },
  {
   "cell_type": "code",
   "execution_count": 3,
   "metadata": {},
   "outputs": [],
   "source": [
    "os.chdir(\"../\")"
   ]
  },
  {
   "cell_type": "code",
   "execution_count": 4,
   "metadata": {},
   "outputs": [
    {
     "data": {
      "text/plain": [
       "'d:\\\\LoanTap\\\\LoanTap'"
      ]
     },
     "execution_count": 4,
     "metadata": {},
     "output_type": "execute_result"
    }
   ],
   "source": [
    "%pwd"
   ]
  },
  {
   "cell_type": "code",
   "execution_count": 11,
   "metadata": {},
   "outputs": [],
   "source": [
    "from dataclasses import dataclass\n",
    "from pathlib import Path\n",
    "\n",
    "@dataclass\n",
    "class ModelEvaluationConfig:\n",
    "    root_dir: Path\n",
    "    test_data_path: Path\n",
    "    model_path: Path\n",
    "    scaler_path: Path\n",
    "    ohencoder_path: Path\n",
    "    le_grade_path: Path\n",
    "    le_subgrade_path: Path\n",
    "    le_emp_length_path: Path\n",
    "    metric_file_name: Path\n",
    "    target_column: str\n",
    "    mlflow_uri: str\n"
   ]
  },
  {
   "cell_type": "code",
   "execution_count": 6,
   "metadata": {},
   "outputs": [],
   "source": [
    "from src.LoanTapPred.constants import *\n",
    "from src.LoanTapPred.utils.common import read_yaml, create_directories,save_json"
   ]
  },
  {
   "cell_type": "code",
   "execution_count": 12,
   "metadata": {},
   "outputs": [],
   "source": [
    "class ConfigurationManager:\n",
    "    def __init__(\n",
    "        self,\n",
    "        config_filepath = CONFIG_FILE_PATH,\n",
    "        params_filepath = PARAMS_FILE_PATH,\n",
    "        schema_filepath = SCHEMA_FILE_PATH):\n",
    "\n",
    "        self.config = read_yaml(config_filepath)\n",
    "        self.params = read_yaml(params_filepath)\n",
    "        self.schema = read_yaml(schema_filepath)\n",
    "\n",
    "        create_directories([self.config.artifacts_root])\n",
    "\n",
    "    def get_model_evaluation_config(self)->ModelEvaluationConfig:\n",
    "        config=self.config.model_evaluation\n",
    "        schema = self.schema.TARGET_COLUMN\n",
    "\n",
    "        create_directories([config.root_dir])\n",
    "\n",
    "        model_evaluation_config = ModelEvaluationConfig(\n",
    "            root_dir=config.root_dir,\n",
    "            test_data_path=config.test_data_path,\n",
    "            model_path=config.model_path,\n",
    "            scaler_path=config.scaler_path,\n",
    "            ohencoder_path=config.ohencoder_path,\n",
    "            le_grade_path=config.le_grade_path,\n",
    "            le_subgrade_path=config.le_subgrade_path,\n",
    "            le_emp_length_path=config.le_emp_length_path,\n",
    "            metric_file_name=config.metric_file_name,\n",
    "            target_column=schema.name,\n",
    "            mlflow_uri=config.mlflow_uri\n",
    "        )\n",
    "\n",
    "        return model_evaluation_config"
   ]
  },
  {
   "cell_type": "code",
   "execution_count": 13,
   "metadata": {},
   "outputs": [],
   "source": [
    "import os \n",
    "import pandas as pd\n",
    "from sklearn.metrics import accuracy_score, f1_score, precision_score, recall_score, confusion_matrix\n",
    "from urllib.parse import urlparse\n",
    "import mlflow\n",
    "import mlflow.sklearn\n",
    "import numpy as np\n",
    "import joblib"
   ]
  },
  {
   "cell_type": "code",
   "execution_count": 14,
   "metadata": {},
   "outputs": [],
   "source": [
    "class ModelEvaluation():\n",
    "    def __init__(self, config:ModelEvaluationConfig):\n",
    "        self.config = config\n",
    "    \n",
    "    def eval_metrics(self, actual, pred):\n",
    "        accuracy = accuracy_score(actual, pred)\n",
    "        precision = precision_score(actual,pred)\n",
    "        recall = recall_score(actual,pred)\n",
    "        f1 = f1_score(actual, pred)\n",
    "        cm = confusion_matrix(actual,pred)\n",
    "\n",
    "        return accuracy, precision, recall, f1, cm\n",
    "    \n",
    "    def log_into_mlflow(self):\n",
    "        test_data = pd.read_csv(self.config.test_data_path)\n",
    "        model = joblib.load(self.config.model_path)\n",
    "        sc = joblib.load(self.config.scaler_path)\n",
    "\n",
    "        X_test = test_data.drop(columns=[self.config.target_column])\n",
    "        y_test = test_data[[self.config.target_column]]\n",
    "        X_test_scaled=sc.transform(X_test)\n",
    "        mlflow.set_registry_uri(self.config.mlflow_uri)\n",
    "        tracking_url_type_store = urlparse(mlflow.get_tracking_uri()).scheme\n",
    "\n",
    "        with mlflow.start_run():\n",
    "            pred = model.predict(X_test_scaled)\n",
    "            (accuracy, precision, recall, f1, cm) = self.eval_metrics(y_test, pred)\n",
    "            TN, FP, FN, TP = cm.ravel()\n",
    "            # saving metrics as local\n",
    "            scores = {\"accuracy\": accuracy, \n",
    "                      \"precision\":precision, \n",
    "                      \"recall\": recall, \n",
    "                      \"f1\": f1,\n",
    "                      \"TN\": int(TN),\n",
    "                      \"FP\": int(FP),\n",
    "                      \"FN\": int(FN),\n",
    "                      \"TP\": int(TP)\n",
    "            }\n",
    "\n",
    "            \n",
    "            save_json(path=Path(self.config.metric_file_name), data=scores)\n",
    "\n",
    "\n",
    "            mlflow.log_metric(\"accuracy\", accuracy)\n",
    "            mlflow.log_metric(\"precision\", precision)\n",
    "            mlflow.log_metric(\"recall\", recall)\n",
    "            mlflow.log_metric(\"f1\", f1)\n",
    "\n",
    "            mlflow.log_metric(\"TN\", TN)\n",
    "            mlflow.log_metric(\"FP\", FP)\n",
    "            mlflow.log_metric(\"FN\", FN)\n",
    "            mlflow.log_metric(\"TP\", TP)\n",
    "            mlflow.log_artifact(self.config.scaler_path)\n",
    "            mlflow.log_artifact(self.config.ohencoder_path)\n",
    "            mlflow.log_artifact(self.config.le_grade_path)\n",
    "            mlflow.log_artifact(self.config.le_subgrade_path)\n",
    "            mlflow.log_artifact(self.config.le_emp_length_path)\n",
    "\n",
    "            #model registery does not work with file store\n",
    "            if tracking_url_type_store != \"file\":\n",
    "                # Register the model\n",
    "                # There are other ways to use the Model Registry, which depends on the use case,\n",
    "                # please refer to the doc for more information:\n",
    "                # https://mlflow.org/docs/latest/model-registry.html#api-workflow\n",
    "                mlflow.sklearn.log_model(model, \"model\", registered_model_name=\"LoanTapLR\")\n",
    "            else:\n",
    "                mlflow.sklearn.log_model(model, \"model\")\n",
    "    \n",
    "\n",
    "\n",
    "\n",
    "            \n",
    "\n",
    "\n"
   ]
  },
  {
   "cell_type": "code",
   "execution_count": 15,
   "metadata": {},
   "outputs": [
    {
     "name": "stdout",
     "output_type": "stream",
     "text": [
      "[2025-01-23 12:55:58,023: INFO: common: yaml file: config\\config.yaml loaded successfully]\n",
      "[2025-01-23 12:55:58,025: INFO: common: yaml file: params.yaml loaded successfully]\n",
      "[2025-01-23 12:55:58,028: INFO: common: yaml file: schema.yaml loaded successfully]\n",
      "[2025-01-23 12:55:58,028: INFO: common: created directory at: artifacts]\n",
      "[2025-01-23 12:55:58,028: INFO: common: created directory at: artifacts/model_evaluation]\n"
     ]
    },
    {
     "name": "stdout",
     "output_type": "stream",
     "text": [
      "[2025-01-23 12:55:58,609: INFO: common: json file saved at: artifacts\\model_evaluation\\metrics.json]\n"
     ]
    },
    {
     "name": "stderr",
     "output_type": "stream",
     "text": [
      "2025/01/23 12:56:12 WARNING mlflow.models.model: Model logged without a signature and input example. Please set `input_example` parameter when logging the model to auto infer the model signature.\n",
      "Successfully registered model 'LoanTapLR'.\n",
      "2025/01/23 12:56:17 INFO mlflow.store.model_registry.abstract_store: Waiting up to 300 seconds for model version to finish creation. Model name: LoanTapLR, version 1\n",
      "Created version '1' of model 'LoanTapLR'.\n"
     ]
    },
    {
     "name": "stdout",
     "output_type": "stream",
     "text": [
      "🏃 View run wise-worm-35 at: https://dagshub.com/Sail2304/LoanTap.mlflow/#/experiments/0/runs/aba6d25108a3480fbab90252a6f19e8d\n",
      "🧪 View experiment at: https://dagshub.com/Sail2304/LoanTap.mlflow/#/experiments/0\n"
     ]
    }
   ],
   "source": [
    "try:\n",
    "    config = ConfigurationManager()\n",
    "    model_evaluation_config = config.get_model_evaluation_config()\n",
    "    model_evaluation = ModelEvaluation(config=model_evaluation_config)\n",
    "    model_evaluation.log_into_mlflow()\n",
    "except Exception as e:\n",
    "    raise e"
   ]
  },
  {
   "cell_type": "code",
   "execution_count": null,
   "metadata": {},
   "outputs": [],
   "source": []
  }
 ],
 "metadata": {
  "kernelspec": {
   "display_name": "venv",
   "language": "python",
   "name": "python3"
  },
  "language_info": {
   "codemirror_mode": {
    "name": "ipython",
    "version": 3
   },
   "file_extension": ".py",
   "mimetype": "text/x-python",
   "name": "python",
   "nbconvert_exporter": "python",
   "pygments_lexer": "ipython3",
   "version": "3.10.5"
  }
 },
 "nbformat": 4,
 "nbformat_minor": 2
}
